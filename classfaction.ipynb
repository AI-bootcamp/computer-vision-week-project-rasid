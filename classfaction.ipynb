{
 "cells": [
  {
   "cell_type": "code",
   "execution_count": 1,
   "metadata": {
    "colab": {
     "base_uri": "https://localhost:8080/"
    },
    "executionInfo": {
     "elapsed": 1473,
     "status": "ok",
     "timestamp": 1746286882697,
     "user": {
      "displayName": "feras alswaid",
      "userId": "00548841111676178966"
     },
     "user_tz": -180
    },
    "id": "rXMo2TIl-Hyf",
    "outputId": "896df398-df5f-4bb7-da9d-01eeb91606ce"
   },
   "outputs": [
    {
     "name": "stdout",
     "output_type": "stream",
     "text": [
      "Drive already mounted at /content/drive; to attempt to forcibly remount, call drive.mount(\"/content/drive\", force_remount=True).\n"
     ]
    }
   ],
   "source": [
    "from google.colab import drive\n",
    "drive.mount('/content/drive')\n"
   ]
  },
  {
   "cell_type": "code",
   "execution_count": 2,
   "metadata": {
    "executionInfo": {
     "elapsed": 3597,
     "status": "ok",
     "timestamp": 1746286888491,
     "user": {
      "displayName": "feras alswaid",
      "userId": "00548841111676178966"
     },
     "user_tz": -180
    },
    "id": "C33IWcukiz0e"
   },
   "outputs": [],
   "source": [
    "import os\n",
    "import numpy as np\n",
    "\n",
    "from tensorflow.keras.preprocessing.image import ImageDataGenerator\n",
    "from google.colab import drive\n",
    "import tensorflow as tf\n",
    "import matplotlib.pyplot as plt\n",
    "\n"
   ]
  },
  {
   "cell_type": "code",
   "execution_count": 4,
   "metadata": {
    "colab": {
     "base_uri": "https://localhost:8080/"
    },
    "executionInfo": {
     "elapsed": 4223,
     "status": "ok",
     "timestamp": 1746286924027,
     "user": {
      "displayName": "feras alswaid",
      "userId": "00548841111676178966"
     },
     "user_tz": -180
    },
    "id": "mKjSNQVXx4st",
    "outputId": "640019b7-1df3-404c-c8d1-8c4b76d077fd"
   },
   "outputs": [
    {
     "name": "stdout",
     "output_type": "stream",
     "text": [
      "Reading package lists... Done\n",
      "^C\n",
      "\n",
      "UNRAR 6.11 beta 1 freeware      Copyright (c) 1993-2022 Alexander Roshal\n",
      "\n",
      "\n",
      "Extracting from /content/drive/MyDrive/computer_vision/images_by_class.rar\n",
      "\n",
      "\n",
      "Would you like to replace the existing file /content/images/images_by_class/10/10_1.jpg\n",
      " 48239 bytes, modified on 2025-05-03 14:14\n",
      "with a new one\n",
      " 48239 bytes, modified on 2025-05-03 14:14\n",
      "\n",
      "[Y]es, [N]o, [A]ll, n[E]ver, [R]ename, [Q]uit \n",
      "User break\n",
      "\n",
      "User break\n"
     ]
    }
   ],
   "source": [
    "!apt-get install unrar\n",
    "!unrar x \"/content/drive/MyDrive/computer_vision/images_by_class.rar\" \"/content/images/\""
   ]
  },
  {
   "cell_type": "markdown",
   "metadata": {
    "id": "R69Cqxb9szwT"
   },
   "source": [
    "remove any currpted image or missing labels\n",
    "\n",
    "\n"
   ]
  },
  {
   "cell_type": "code",
   "execution_count": null,
   "metadata": {
    "colab": {
     "base_uri": "https://localhost:8080/"
    },
    "executionInfo": {
     "elapsed": 1303,
     "status": "ok",
     "timestamp": 1746290241016,
     "user": {
      "displayName": "feras alswaid",
      "userId": "00548841111676178966"
     },
     "user_tz": -180
    },
    "id": "LOQSyuUz-JuW",
    "outputId": "863ac465-a6b5-455e-a187-5064522b5066"
   },
   "outputs": [
    {
     "name": "stdout",
     "output_type": "stream",
     "text": [
      "Found 23761 files belonging to 13 classes.\n",
      "Using 19009 files for training.\n",
      "Found 23761 files belonging to 13 classes.\n",
      "Using 4752 files for validation.\n",
      "Class names (speeds): ['10', '100', '110', '120', '140', '20', '30', '40', '50', '60', '70', '80', '90']\n"
     ]
    }
   ],
   "source": [
    "import tensorflow as tf\n",
    "\n",
    "DATA_DIR = '/content/images/images_by_class'  \n",
    "BATCH_SIZE = 64\n",
    "IMG_HEIGHT = 224\n",
    "IMG_WIDTH = 224\n",
    "SEED = 42\n",
    "\n",
    "# Create the training dataset\n",
    "train_ds = tf.keras.utils.image_dataset_from_directory(\n",
    "    DATA_DIR,\n",
    "    validation_split=0.2,\n",
    "    subset=\"training\",\n",
    "    seed=SEED,\n",
    "    label_mode='categorical',\n",
    "    image_size=(IMG_HEIGHT, IMG_WIDTH),\n",
    "    batch_size=BATCH_SIZE\n",
    ")\n",
    "\n",
    "\n",
    "\n",
    "\n",
    "val_ds = tf.keras.utils.image_dataset_from_directory(\n",
    "    DATA_DIR,\n",
    "    validation_split=0.2,\n",
    "    subset=\"validation\",\n",
    "    seed=SEED,\n",
    "    label_mode='categorical',\n",
    "    image_size=(IMG_HEIGHT, IMG_WIDTH),\n",
    "    batch_size=BATCH_SIZE\n",
    ")\n",
    "class_names = val_ds.class_names\n",
    "\n",
    "\n",
    "print(\"Class names (speeds):\", train_ds.class_names)\n",
    "\n",
    "AUTOTUNE = tf.data.AUTOTUNE\n",
    "train_ds = train_ds.prefetch(buffer_size=AUTOTUNE)\n",
    "val_ds = val_ds.prefetch(buffer_size=AUTOTUNE)\n"
   ]
  },
  {
   "cell_type": "code",
   "execution_count": 29,
   "metadata": {
    "colab": {
     "base_uri": "https://localhost:8080/"
    },
    "executionInfo": {
     "elapsed": 143,
     "status": "ok",
     "timestamp": 1746290244184,
     "user": {
      "displayName": "feras alswaid",
      "userId": "00548841111676178966"
     },
     "user_tz": -180
    },
    "id": "xbpgsu6jnCVu",
    "outputId": "e0b23a0b-7adb-42fa-d890-0552030f3020"
   },
   "outputs": [
    {
     "name": "stdout",
     "output_type": "stream",
     "text": [
      "tf.Tensor([0. 0. 0. 0. 0. 0. 0. 1. 0. 0. 0. 0. 0.], shape=(13,), dtype=float32)\n"
     ]
    }
   ],
   "source": [
    "for image,label in train_ds.take(1):\n",
    "  print(label[0])"
   ]
  },
  {
   "cell_type": "code",
   "execution_count": null,
   "metadata": {
    "executionInfo": {
     "elapsed": 2233,
     "status": "ok",
     "timestamp": 1746286947390,
     "user": {
      "displayName": "feras alswaid",
      "userId": "00548841111676178966"
     },
     "user_tz": -180
    },
    "id": "he8WUboKyX0L"
   },
   "outputs": [],
   "source": [
    "from tensorflow import keras\n",
    "from tensorflow.keras import layers\n",
    "\n",
    "# Base model (frozen)\n",
    "base_model = tf.keras.applications.EfficientNetB0(\n",
    "    include_top=False,\n",
    "    weights='imagenet',\n",
    "    input_shape=(224, 224, 3)\n",
    ")\n",
    "base_model.trainable = False  \n",
    "\n",
    "\n",
    "model = keras.Sequential([\n",
    "   \n",
    "    base_model,\n",
    "\n",
    " \n",
    "    layers.Conv2D(512, (3,3), activation='relu', padding='same'),\n",
    "    layers.BatchNormalization(),\n",
    "    layers.GlobalAveragePooling2D(),\n",
    "\n",
    "    layers.Dense(1024, activation='relu'),\n",
    "    layers.BatchNormalization(),\n",
    "    layers.Dropout(0.5),\n",
    "\n",
    "    layers.Dense(512, activation='relu'),\n",
    "    layers.BatchNormalization(),\n",
    "    layers.Dropout(0.4),\n",
    "\n",
    "    layers.Dense(256, activation='relu'),\n",
    "    layers.Dropout(0.3),\n",
    "\n",
    "\n",
    "    layers.Dense(13, activation='softmax')\n",
    "])\n",
    "\n",
    "\n",
    "model.compile(\n",
    "    optimizer=keras.optimizers.Adam(learning_rate=1e-4),\n",
    "    loss='categorical_crossentropy',\n",
    "    metrics=['accuracy']\n",
    ")\n",
    "\n"
   ]
  },
  {
   "cell_type": "code",
   "execution_count": 8,
   "metadata": {
    "colab": {
     "base_uri": "https://localhost:8080/"
    },
    "executionInfo": {
     "elapsed": 624916,
     "status": "ok",
     "timestamp": 1746287578083,
     "user": {
      "displayName": "feras alswaid",
      "userId": "00548841111676178966"
     },
     "user_tz": -180
    },
    "id": "ZU4iJ7JOy0dY",
    "outputId": "cf39ec9a-6816-42c0-be5e-61df4ac6c3cc"
   },
   "outputs": [
    {
     "name": "stdout",
     "output_type": "stream",
     "text": [
      "Epoch 1/10\n",
      "\u001b[1m595/595\u001b[0m \u001b[32m━━━━━━━━━━━━━━━━━━━━\u001b[0m\u001b[37m\u001b[0m \u001b[1m106s\u001b[0m 128ms/step - accuracy: 0.4843 - loss: 1.8236 - val_accuracy: 0.9093 - val_loss: 0.2837\n",
      "Epoch 2/10\n",
      "\u001b[1m595/595\u001b[0m \u001b[32m━━━━━━━━━━━━━━━━━━━━\u001b[0m\u001b[37m\u001b[0m \u001b[1m52s\u001b[0m 86ms/step - accuracy: 0.8461 - loss: 0.4820 - val_accuracy: 0.9646 - val_loss: 0.1076\n",
      "Epoch 3/10\n",
      "\u001b[1m595/595\u001b[0m \u001b[32m━━━━━━━━━━━━━━━━━━━━\u001b[0m\u001b[37m\u001b[0m \u001b[1m51s\u001b[0m 86ms/step - accuracy: 0.9158 - loss: 0.2631 - val_accuracy: 0.9701 - val_loss: 0.0819\n",
      "Epoch 4/10\n",
      "\u001b[1m595/595\u001b[0m \u001b[32m━━━━━━━━━━━━━━━━━━━━\u001b[0m\u001b[37m\u001b[0m \u001b[1m81s\u001b[0m 85ms/step - accuracy: 0.9465 - loss: 0.1682 - val_accuracy: 0.9695 - val_loss: 0.0814\n",
      "Epoch 5/10\n",
      "\u001b[1m595/595\u001b[0m \u001b[32m━━━━━━━━━━━━━━━━━━━━\u001b[0m\u001b[37m\u001b[0m \u001b[1m50s\u001b[0m 84ms/step - accuracy: 0.9503 - loss: 0.1479 - val_accuracy: 0.9714 - val_loss: 0.0700\n",
      "Epoch 6/10\n",
      "\u001b[1m595/595\u001b[0m \u001b[32m━━━━━━━━━━━━━━━━━━━━\u001b[0m\u001b[37m\u001b[0m \u001b[1m51s\u001b[0m 85ms/step - accuracy: 0.9606 - loss: 0.1159 - val_accuracy: 0.9720 - val_loss: 0.0652\n",
      "Epoch 7/10\n",
      "\u001b[1m595/595\u001b[0m \u001b[32m━━━━━━━━━━━━━━━━━━━━\u001b[0m\u001b[37m\u001b[0m \u001b[1m51s\u001b[0m 85ms/step - accuracy: 0.9627 - loss: 0.1085 - val_accuracy: 0.9739 - val_loss: 0.0655\n",
      "Epoch 8/10\n",
      "\u001b[1m595/595\u001b[0m \u001b[32m━━━━━━━━━━━━━━━━━━━━\u001b[0m\u001b[37m\u001b[0m \u001b[1m50s\u001b[0m 84ms/step - accuracy: 0.9655 - loss: 0.0932 - val_accuracy: 0.9726 - val_loss: 0.0629\n",
      "Epoch 9/10\n",
      "\u001b[1m595/595\u001b[0m \u001b[32m━━━━━━━━━━━━━━━━━━━━\u001b[0m\u001b[37m\u001b[0m \u001b[1m51s\u001b[0m 85ms/step - accuracy: 0.9656 - loss: 0.0916 - val_accuracy: 0.9750 - val_loss: 0.0551\n",
      "Epoch 10/10\n",
      "\u001b[1m595/595\u001b[0m \u001b[32m━━━━━━━━━━━━━━━━━━━━\u001b[0m\u001b[37m\u001b[0m \u001b[1m51s\u001b[0m 86ms/step - accuracy: 0.9631 - loss: 0.0918 - val_accuracy: 0.9718 - val_loss: 0.0608\n"
     ]
    },
    {
     "data": {
      "text/plain": [
       "<keras.src.callbacks.history.History at 0x789080510c90>"
      ]
     },
     "execution_count": 8,
     "metadata": {},
     "output_type": "execute_result"
    }
   ],
   "source": [
    "model.fit(train_ds, validation_data=val_ds, epochs=10)"
   ]
  },
  {
   "cell_type": "code",
   "execution_count": 9,
   "metadata": {
    "colab": {
     "base_uri": "https://localhost:8080/"
    },
    "executionInfo": {
     "elapsed": 672,
     "status": "ok",
     "timestamp": 1746288970129,
     "user": {
      "displayName": "feras alswaid",
      "userId": "00548841111676178966"
     },
     "user_tz": -180
    },
    "id": "jZkeJT_gy35y",
    "outputId": "869e5c9c-636c-4b07-f0c4-e5ab6f13890d"
   },
   "outputs": [
    {
     "name": "stderr",
     "output_type": "stream",
     "text": [
      "WARNING:absl:You are saving your model as an HDF5 file via `model.save()` or `keras.saving.save_model(model)`. This file format is considered legacy. We recommend using instead the native Keras format, e.g. `model.save('my_model.keras')` or `keras.saving.save_model(model, 'my_model.keras')`. \n"
     ]
    }
   ],
   "source": [
    "model.save('classfaction_model.h5')"
   ]
  },
  {
   "cell_type": "code",
   "execution_count": 11,
   "metadata": {
    "colab": {
     "base_uri": "https://localhost:8080/",
     "height": 350
    },
    "executionInfo": {
     "elapsed": 510,
     "status": "ok",
     "timestamp": 1746289057063,
     "user": {
      "displayName": "feras alswaid",
      "userId": "00548841111676178966"
     },
     "user_tz": -180
    },
    "id": "Wu74YCAm7wUd",
    "outputId": "e71e6944-934f-4f7c-bcbd-6fb1c14233f7"
   },
   "outputs": [
    {
     "data": {
      "text/plain": [
       "<matplotlib.legend.Legend at 0x789001b343d0>"
      ]
     },
     "execution_count": 11,
     "metadata": {},
     "output_type": "execute_result"
    },
    {
     "data": {
      "image/png": "[encoded data removed]",
      "text/plain": [
       "<Figure size 1000x300 with 2 Axes>"
      ]
     },
     "metadata": {},
     "output_type": "display_data"
    }
   ],
   "source": [
    "plt.figure(figsize=(10, 3))\n",
    "\n",
    "plt.subplot(1, 2, 1)\n",
    "plt.title('Train and Validation Accuracy')\n",
    "plt.plot(model.history.history['accuracy'], label='Accuracy')\n",
    "plt.plot(model.history.history['val_accuracy'], label='Validation Accuracy')\n",
    "plt.xlabel('Epochs')\n",
    "plt.ylabel('Accuracy')\n",
    "plt.legend()\n",
    "\n",
    "plt.subplot(1, 2, 2)\n",
    "plt.title('Train and Validation Loss')\n",
    "plt.plot(model.history.history['loss'], label='Loss')\n",
    "plt.plot(model.history.history['val_loss'], label='Validation Loss')\n",
    "plt.xlabel('Epochs')\n",
    "plt.ylabel('Loss')\n",
    "plt.legend()"
   ]
  },
  {
   "cell_type": "code",
   "execution_count": 14,
   "metadata": {
    "colab": {
     "base_uri": "https://localhost:8080/"
    },
    "executionInfo": {
     "elapsed": 10855,
     "status": "ok",
     "timestamp": 1746289371986,
     "user": {
      "displayName": "feras alswaid",
      "userId": "00548841111676178966"
     },
     "user_tz": -180
    },
    "id": "LKKJOSsz7-C6",
    "outputId": "36df50fa-bc89-4060-c401-ec1f0ce9e443"
   },
   "outputs": [
    {
     "name": "stdout",
     "output_type": "stream",
     "text": [
      "\u001b[1m149/149\u001b[0m \u001b[32m━━━━━━━━━━━━━━━━━━━━\u001b[0m\u001b[37m\u001b[0m \u001b[1m10s\u001b[0m 69ms/step - accuracy: 0.9728 - loss: 0.0627\n"
     ]
    }
   ],
   "source": [
    "from sklearn.metrics import classification_report, confusion_matrix\n",
    "\n",
    "loss, accuracy = model.evaluate(val_ds)"
   ]
  },
  {
   "cell_type": "code",
   "execution_count": 15,
   "metadata": {
    "colab": {
     "base_uri": "https://localhost:8080/"
    },
    "executionInfo": {
     "elapsed": 12,
     "status": "ok",
     "timestamp": 1746289388374,
     "user": {
      "displayName": "feras alswaid",
      "userId": "00548841111676178966"
     },
     "user_tz": -180
    },
    "id": "5Wv3eeiF8OBe",
    "outputId": "1be8894a-d9fa-49c3-a839-180c35a22756"
   },
   "outputs": [
    {
     "name": "stdout",
     "output_type": "stream",
     "text": [
      "The accuracy of the model is 0.9718013405799866\n",
      "The Loss in the model is     0.06081211939454079\n"
     ]
    }
   ],
   "source": [
    "print(f\"The accuracy of the model is {accuracy}\")\n",
    "print(f\"The Loss in the model is     {loss}\")"
   ]
  }
 ],
 "metadata": {
  "accelerator": "GPU",
  "colab": {
   "authorship_tag": "ABX9TyOAkzkGDVMyuwZ9vi20V+gC",
   "gpuType": "T4",
   "provenance": []
  },
  "kernelspec": {
   "display_name": "Python 3",
   "name": "python3"
  },
  "language_info": {
   "name": "python"
  }
 },
 "nbformat": 4,
 "nbformat_minor": 0
}
